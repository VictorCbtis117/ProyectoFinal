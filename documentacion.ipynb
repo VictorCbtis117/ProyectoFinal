{
 "cells": [
  {
   "cell_type": "markdown",
   "metadata": {},
   "source": [
    "# Proyecto Final"
   ]
  },
  {
   "cell_type": "markdown",
   "metadata": {},
   "source": [
    "## Analisis de variacion de precios frutas y verduras de la pagina de Al Super"
   ]
  },
  {
   "cell_type": "markdown",
   "metadata": {},
   "source": [
    "Se estuvo analizando los precios del area de frutas y verduras durante 15 dias y se pretendia analizar descubrir aquellos productos con mayor fluctuacion en los precios, de igual forma se almaceno la informacion en sus respectivos archivos una vez hecho el muestreo de los datos ofrecidos en la pagina"
   ]
  },
  {
   "cell_type": "markdown",
   "metadata": {},
   "source": [
    "Se utilizaron las herramientas aprendidas en el curso a fin de recabar la informacion y se hizo uso de otras librerias para poder acceder a dichos datos, ya que la pagina requeria que se estuviera recorriendo el scroll de manera automatica, por lo cual se utilizo Selenium para dicha tarea"
   ]
  },
  {
   "cell_type": "markdown",
   "metadata": {},
   "source": [
    "Una vez analizada la pagina, se guardaba una copia del archivo en formato html para su posterior analisis y comenzar con la seleccion de la informacion a utilizar, se estar almacenando en archivos csv para posteriormente continuar con el proceso de desarrollar la aplicacion que nos permita visualizar la informacion"
   ]
  },
  {
   "cell_type": "markdown",
   "metadata": {},
   "source": [
    "Se Generaron los archivos para la limpieza y graficacion de los datos, posteriormente se sacaron los datos estadisticos y se termina graficando para continuar con el proceso de desarrollar la aplicacion fastAPI"
   ]
  },
  {
   "cell_type": "markdown",
   "metadata": {},
   "source": [
    "Se crearon los archivos post,get,put,delete pero se tuvo complicaciones al momento de poder almacenarlos ya que no se supo como poder automatizar dicha tarea y que se cargaran todos los archivos, mas cuando se realiza con uno solo si funciona"
   ]
  },
  {
   "cell_type": "markdown",
   "metadata": {},
   "source": [
    "Lamentablemente con el inico de los cursos propedeuticos del plantel CBTis 117 de cd. Cuauhtemoc, en el cual laboro y las funciones propias de la docencia, se me vio limitado el tiempo para poder documentar la informacion de manera adecuada, aun asi los archivos funcionan y se pueden ejecutar, no me fue posible subir el repositorio ya que me marca error de permiso y no conte con el tiempo para poder solventarlo.\n",
    "\n",
    "1-AlSuper.py\n",
    "2-reporte.py\n",
    "3-frutasyverduras.py\n",
    "4-main.py"
   ]
  },
  {
   "cell_type": "markdown",
   "metadata": {},
   "source": [
    "De cualquier manera fue una grata experiencia el poder conocer nuevas herramientas y seguirlas practicando para poder compartirlas con mis alumnos, muchas gracias"
   ]
  }
 ],
 "metadata": {
  "kernelspec": {
   "display_name": "Python 3",
   "language": "python",
   "name": "python3"
  },
  "language_info": {
   "codemirror_mode": {
    "name": "ipython",
    "version": 3
   },
   "file_extension": ".py",
   "mimetype": "text/x-python",
   "name": "python",
   "nbconvert_exporter": "python",
   "pygments_lexer": "ipython3",
   "version": "3.11.1"
  },
  "orig_nbformat": 4
 },
 "nbformat": 4,
 "nbformat_minor": 2
}
